{
 "cells": [
  {
   "cell_type": "markdown",
   "id": "e123bacd",
   "metadata": {},
   "source": [
    "# Import Libraries"
   ]
  },
  {
   "cell_type": "code",
   "execution_count": 1,
   "id": "f3c2ee8a",
   "metadata": {},
   "outputs": [],
   "source": [
    "import pandas as pd\n",
    "import numpy as np\n",
    "\n",
    "import json\n",
    "import pickle"
   ]
  },
  {
   "cell_type": "markdown",
   "id": "88157ad3",
   "metadata": {},
   "source": [
    "# Load Model"
   ]
  },
  {
   "cell_type": "code",
   "execution_count": 2,
   "id": "3a16ab09",
   "metadata": {},
   "outputs": [],
   "source": [
    "with open('best_model_rf.pkl', 'rb') as file_1:\n",
    "    best_model_rf = pickle.load(file_1)"
   ]
  },
  {
   "cell_type": "code",
   "execution_count": 3,
   "id": "ca76f0d9",
   "metadata": {},
   "outputs": [],
   "source": [
    "data = pd.DataFrame([\n",
    "    {\n",
    "        'airline': 'Air_India',\n",
    "        'departure_time': 'Morning',\n",
    "        'stops': 'zero',\n",
    "        'arrival_time': 'Night',\n",
    "        'destination_city': 'Delhi',\n",
    "        'class': 'Business',\n",
    "        'duration': '15.5',\n",
    "        'days_left': '7'\n",
    "    },\n",
    "    {\n",
    "        'airline': 'Vistara',\n",
    "        'stops': 'one',\n",
    "        'departure_time': 'Early_Morning',\n",
    "        'arrival_time': 'Night',\n",
    "        'destination_city': 'Kolkata',\n",
    "        'class': 'Economy',\n",
    "        'duration': '4',\n",
    "        'days_left': '60'\n",
    "    }\n",
    "])"
   ]
  },
  {
   "cell_type": "code",
   "execution_count": 4,
   "id": "851e3252",
   "metadata": {},
   "outputs": [
    {
     "data": {
      "text/html": [
       "<div>\n",
       "<style scoped>\n",
       "    .dataframe tbody tr th:only-of-type {\n",
       "        vertical-align: middle;\n",
       "    }\n",
       "\n",
       "    .dataframe tbody tr th {\n",
       "        vertical-align: top;\n",
       "    }\n",
       "\n",
       "    .dataframe thead th {\n",
       "        text-align: right;\n",
       "    }\n",
       "</style>\n",
       "<table border=\"1\" class=\"dataframe\">\n",
       "  <thead>\n",
       "    <tr style=\"text-align: right;\">\n",
       "      <th></th>\n",
       "      <th>airline</th>\n",
       "      <th>departure_time</th>\n",
       "      <th>stops</th>\n",
       "      <th>arrival_time</th>\n",
       "      <th>destination_city</th>\n",
       "      <th>class</th>\n",
       "      <th>duration</th>\n",
       "      <th>days_left</th>\n",
       "      <th>prediksi</th>\n",
       "    </tr>\n",
       "  </thead>\n",
       "  <tbody>\n",
       "    <tr>\n",
       "      <th>0</th>\n",
       "      <td>Air_India</td>\n",
       "      <td>Morning</td>\n",
       "      <td>zero</td>\n",
       "      <td>Night</td>\n",
       "      <td>Delhi</td>\n",
       "      <td>Business</td>\n",
       "      <td>15.5</td>\n",
       "      <td>7</td>\n",
       "      <td>35652.004341</td>\n",
       "    </tr>\n",
       "    <tr>\n",
       "      <th>1</th>\n",
       "      <td>Vistara</td>\n",
       "      <td>Early_Morning</td>\n",
       "      <td>one</td>\n",
       "      <td>Night</td>\n",
       "      <td>Kolkata</td>\n",
       "      <td>Economy</td>\n",
       "      <td>4</td>\n",
       "      <td>60</td>\n",
       "      <td>6719.650385</td>\n",
       "    </tr>\n",
       "  </tbody>\n",
       "</table>\n",
       "</div>"
      ],
      "text/plain": [
       "     airline departure_time stops arrival_time destination_city     class  \\\n",
       "0  Air_India        Morning  zero        Night            Delhi  Business   \n",
       "1    Vistara  Early_Morning   one        Night          Kolkata   Economy   \n",
       "\n",
       "  duration days_left      prediksi  \n",
       "0     15.5         7  35652.004341  \n",
       "1        4        60   6719.650385  "
      ]
     },
     "execution_count": 4,
     "metadata": {},
     "output_type": "execute_result"
    }
   ],
   "source": [
    "prediksi = best_model_rf.predict(data)\n",
    "data['prediksi'] = prediksi\n",
    "\n",
    "\n",
    "data"
   ]
  },
  {
   "cell_type": "markdown",
   "id": "dd7298e0",
   "metadata": {},
   "source": [
    "Berikut adalah hasil prediksi dari data dummy inference."
   ]
  }
 ],
 "metadata": {
  "kernelspec": {
   "display_name": "h8_env",
   "language": "python",
   "name": "python3"
  },
  "language_info": {
   "codemirror_mode": {
    "name": "ipython",
    "version": 3
   },
   "file_extension": ".py",
   "mimetype": "text/x-python",
   "name": "python",
   "nbconvert_exporter": "python",
   "pygments_lexer": "ipython3",
   "version": "3.9.23"
  }
 },
 "nbformat": 4,
 "nbformat_minor": 5
}
